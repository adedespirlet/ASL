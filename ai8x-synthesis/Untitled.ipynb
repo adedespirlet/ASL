{
 "cells": [
  {
   "cell_type": "code",
   "execution_count": null,
   "id": "e5182a6d",
   "metadata": {},
   "outputs": [],
   "source": []
  },
  {
   "cell_type": "code",
   "execution_count": 3,
   "id": "51730486",
   "metadata": {},
   "outputs": [
    {
     "ename": "ModuleNotFoundError",
     "evalue": "No module named 'cv2'",
     "output_type": "error",
     "traceback": [
      "\u001b[0;31m---------------------------------------------------------------------------\u001b[0m",
      "\u001b[0;31mModuleNotFoundError\u001b[0m                       Traceback (most recent call last)",
      "\u001b[0;32m/tmp/ipykernel_116360/4235477061.py\u001b[0m in \u001b[0;36m<module>\u001b[0;34m\u001b[0m\n\u001b[0;32m----> 1\u001b[0;31m \u001b[0;32mimport\u001b[0m \u001b[0mcv2\u001b[0m\u001b[0;34m\u001b[0m\u001b[0;34m\u001b[0m\u001b[0m\n\u001b[0m",
      "\u001b[0;31mModuleNotFoundError\u001b[0m: No module named 'cv2'"
     ]
    }
   ],
   "source": [
    "import cv2\n"
   ]
  },
  {
   "cell_type": "code",
   "execution_count": null,
   "id": "e00830ad",
   "metadata": {},
   "outputs": [],
   "source": [
    "cam = VideoCapture(0)\n"
   ]
  },
  {
   "cell_type": "code",
   "execution_count": null,
   "id": "1897fb32",
   "metadata": {},
   "outputs": [],
   "source": [
    "grayImage = cv2.cvtColor(originalImage, cv2.COLOR_BGR2GRAY)\n",
    "cv2.imshow('Grayscale', gray_image)"
   ]
  },
  {
   "cell_type": "code",
   "execution_count": null,
   "id": "c37fdf73",
   "metadata": {},
   "outputs": [],
   "source": [
    "result, image = cam.read()\n"
   ]
  },
  {
   "cell_type": "code",
   "execution_count": null,
   "id": "81488272",
   "metadata": {},
   "outputs": [],
   "source": [
    "if result:\n",
    "  \n",
    "    # showing result, it take frame name and image \n",
    "    # output\n",
    "    imshow(\"GeeksForGeeks\", image)\n",
    "  \n",
    "    # saving image in local storage\n",
    "    imwrite(\"GeeksForGeeks.png\", image)\n",
    "  \n",
    "    # If keyboard interrupt occurs, destroy image \n",
    "    # window\n",
    "    waitKey(0)\n",
    "    destroyWindow(\"GeeksForGeeks\")\n",
    "  \n",
    "# If captured image is corrupted, moving to else part\n",
    "else:\n",
    "    print(\"No image detected. Please! try again\")"
   ]
  }
 ],
 "metadata": {
  "kernelspec": {
   "display_name": "Python 3 (ipykernel)",
   "language": "python",
   "name": "python3"
  },
  "language_info": {
   "codemirror_mode": {
    "name": "ipython",
    "version": 3
   },
   "file_extension": ".py",
   "mimetype": "text/x-python",
   "name": "python",
   "nbconvert_exporter": "python",
   "pygments_lexer": "ipython3",
   "version": "3.9.13"
  }
 },
 "nbformat": 4,
 "nbformat_minor": 5
}
