{
 "cells": [
  {
   "cell_type": "code",
   "execution_count": 18,
   "id": "b66436ea",
   "metadata": {},
   "outputs": [],
   "source": [
    "import pandas as pd\n",
    "def dataframe_to_nparray(train_df, test_df):\n",
    "        train_df1 = train_df.copy(deep = True)\n",
    "        test_df1 = test_df.copy(deep = True)\n",
    "        train_images = train_df1.iloc[:, 1:].to_numpy(dtype = 'float32')\n",
    "        test_images = test_df1.iloc[:, 1:].to_numpy(dtype = 'float32')\n",
    "        return train_images,test_images\n"
   ]
  },
  {
   "cell_type": "code",
   "execution_count": 24,
   "id": "01e86e37",
   "metadata": {},
   "outputs": [
    {
     "name": "stdout",
     "output_type": "stream",
     "text": [
      "[ 3  6  2 ... 18 17 23]\n"
     ]
    }
   ],
   "source": [
    "\n",
    "train=pd.read_csv(\"/home/aurore/Documents/MLonMCUs/MAX78000/ASL/data/asl/train/sign_mnist_train.csv\")\n",
    "test= pd.read_csv(\"/home/aurore/Documents/MLonMCUs/MAX78000/ASL/data/asl/test/sign_mnist_test.csv\")\n",
    "\n",
    "\n",
    "train_img, test_img = dataframe_to_nparray(train, test)\n",
    "\n",
    "train_labels = train['label'].values\n",
    "test_labels = test['label'].values\n",
    "print(train_labels)"
   ]
  },
  {
   "cell_type": "code",
   "execution_count": 27,
   "id": "c66a9608",
   "metadata": {},
   "outputs": [
    {
     "ename": "ModuleNotFoundError",
     "evalue": "No module named 'pytorch'",
     "output_type": "error",
     "traceback": [
      "\u001b[0;31m---------------------------------------------------------------------------\u001b[0m",
      "\u001b[0;31mModuleNotFoundError\u001b[0m                       Traceback (most recent call last)",
      "Cell \u001b[0;32mIn [27], line 1\u001b[0m\n\u001b[0;32m----> 1\u001b[0m \u001b[38;5;28;01mimport\u001b[39;00m \u001b[38;5;21;01mpytorch\u001b[39;00m\n\u001b[1;32m      2\u001b[0m train_images_tensors \u001b[38;5;241m=\u001b[39m torch\u001b[38;5;241m.\u001b[39mfrom_numpy(train_images_shaped)\n\u001b[1;32m      3\u001b[0m train_labels_tensors \u001b[38;5;241m=\u001b[39m torch\u001b[38;5;241m.\u001b[39mfrom_numpy(train_labels)\n",
      "\u001b[0;31mModuleNotFoundError\u001b[0m: No module named 'pytorch'"
     ]
    }
   ],
   "source": [
    "import pytorch\n",
    "train_images_tensors = torch.from_numpy(train_images_shaped)\n",
    "train_labels_tensors = torch.from_numpy(train_labels)\n",
    "\n",
    "test_images_tensors = torch.from_numpy(test_images_shaped)\n",
    "test_labels_tensors = torch.from_numpy(test_labels)"
   ]
  },
  {
   "cell_type": "code",
   "execution_count": null,
   "id": "66ba486b",
   "metadata": {},
   "outputs": [],
   "source": [
    "# pytorch dataset\n",
    "train_ds_full = TensorDataset(train_images_tensors, train_labels_tensors) #this dataset will further devided into validation dataset and training dataset\n",
    "test_ds = TensorDataset(test_images_tensors, test_labels_tensors)"
   ]
  }
 ],
 "metadata": {
  "kernelspec": {
   "display_name": "Python 3 (ipykernel)",
   "language": "python",
   "name": "python3"
  },
  "language_info": {
   "codemirror_mode": {
    "name": "ipython",
    "version": 3
   },
   "file_extension": ".py",
   "mimetype": "text/x-python",
   "name": "python",
   "nbconvert_exporter": "python",
   "pygments_lexer": "ipython3",
   "version": "3.9.13"
  }
 },
 "nbformat": 4,
 "nbformat_minor": 5
}
