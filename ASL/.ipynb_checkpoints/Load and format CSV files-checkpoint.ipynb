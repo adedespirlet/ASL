{
 "cells": [
  {
   "cell_type": "code",
   "execution_count": 1,
   "id": "f6bcda18",
   "metadata": {},
   "outputs": [],
   "source": [
    "from torch.utils.data import TensorDataset, DataLoader, random_split\n",
    "\n",
    "from PIL import Image\n",
    "import pandas as pd\n",
    "\n",
    "\n",
    "import matplotlib.pyplot as plt\n",
    "\n",
    "import torch.nn as nn\n",
    "import torch.nn.functional as F\n",
    "from tqdm.notebook import tqdm\n",
    "\n",
    "import os\n",
    "import numpy as np\n"
   ]
  },
  {
   "cell_type": "code",
   "execution_count": 36,
   "id": "d6534ac2",
   "metadata": {},
   "outputs": [],
   "source": [
    "import pandas as pd\n"
   ]
  },
  {
   "cell_type": "code",
   "execution_count": 68,
   "id": "3ef60a16",
   "metadata": {},
   "outputs": [],
   "source": [
    "data_path = \"/home/aurore/Documents/MLonMCUs/MAX78000/ASL/data/asl/\"\n",
    "train_path = os.path.join(data_path, \"train/sign_mnist_train.csv\") \n",
    "test_path = os.path.join(data_path, \"test/sign_mnist_test.csv\")\n",
    "\n",
    "train_df=pd.read_csv(train_path)\n",
    "test_df= pd.read_csv(test_path)"
   ]
  },
  {
   "cell_type": "code",
   "execution_count": 71,
   "id": "a2ea3e48",
   "metadata": {},
   "outputs": [
    {
     "name": "stdout",
     "output_type": "stream",
     "text": [
      "(27455, 785) (7172, 785)\n",
      "<class 'pandas.core.frame.DataFrame'>\n",
      "RangeIndex: 27455 entries, 0 to 27454\n",
      "Columns: 785 entries, label to pixel784\n",
      "dtypes: int64(785)\n",
      "memory usage: 164.4 MB\n",
      "None\n",
      "<class 'pandas.core.frame.DataFrame'>\n",
      "RangeIndex: 7172 entries, 0 to 7171\n",
      "Columns: 785 entries, label to pixel784\n",
      "dtypes: int64(785)\n",
      "memory usage: 43.0 MB\n",
      "None\n"
     ]
    }
   ],
   "source": [
    "print(train_df.shape, test_df.shape)\n",
    "print(train_df.info())\n",
    "print(test_df.info())\n",
    "#print(train_df)"
   ]
  },
  {
   "cell_type": "code",
   "execution_count": 76,
   "id": "cb54b1a1",
   "metadata": {},
   "outputs": [
    {
     "data": {
      "text/plain": [
       "17    1294\n",
       "16    1279\n",
       "11    1241\n",
       "22    1225\n",
       "5     1204\n",
       "18    1199\n",
       "3     1196\n",
       "14    1196\n",
       "19    1186\n",
       "23    1164\n",
       "8     1162\n",
       "20    1161\n",
       "13    1151\n",
       "2     1144\n",
       "0     1126\n",
       "24    1118\n",
       "10    1114\n",
       "6     1090\n",
       "15    1088\n",
       "21    1082\n",
       "12    1055\n",
       "7     1013\n",
       "1     1010\n",
       "4      957\n",
       "Name: label, dtype: int64"
      ]
     },
     "execution_count": 76,
     "metadata": {},
     "output_type": "execute_result"
    }
   ],
   "source": [
    "#number of data per class\n",
    "train_df['label'].value_counts()\n",
    "\n",
    "#test_df['label'].value_counts()\n",
    "\n"
   ]
  },
  {
   "cell_type": "code",
   "execution_count": 78,
   "id": "497a132e",
   "metadata": {},
   "outputs": [
    {
     "name": "stdout",
     "output_type": "stream",
     "text": [
      "[3, 6, 2, 13, 16, 8, 22, 18, 10, 20, 17, 19, 21, 23, 24, 1, 12, 11, 15, 4, 0, 5, 7, 14]\n"
     ]
    }
   ],
   "source": [
    "class_labels = train_df['label'].unique().tolist()\n",
    "print(class_labels)\n"
   ]
  },
  {
   "cell_type": "code",
   "execution_count": 97,
   "id": "f7e4881f",
   "metadata": {},
   "outputs": [
    {
     "name": "stdout",
     "output_type": "stream",
     "text": [
      "(27455,)\n",
      "[ 6  5 10 ...  2  4  2]\n"
     ]
    }
   ],
   "source": [
    "train_img, test_img = dataframe_to_nparray(train_df, test_df)\n",
    "train_labels = train_df['label'].values\n",
    "test_labels = test_df['label'].values\n",
    "print(train_labels.shape)\n",
    "print(test_labels)"
   ]
  },
  {
   "cell_type": "code",
   "execution_count": 98,
   "id": "f19e03a3",
   "metadata": {},
   "outputs": [],
   "source": [
    "#label = train.iloc[145, 0]\n",
    "#print(label.type)"
   ]
  },
  {
   "cell_type": "code",
   "execution_count": 39,
   "id": "3dc2bc7d",
   "metadata": {},
   "outputs": [],
   "source": []
  },
  {
   "cell_type": "code",
   "execution_count": 128,
   "id": "20f6b127",
   "metadata": {},
   "outputs": [
    {
     "data": {
      "application/vnd.jupyter.widget-view+json": {
       "model_id": "4870242457f14b18ad39da05c8907d5f",
       "version_major": 2,
       "version_minor": 0
      },
      "text/plain": [
       "  0%|          | 0/27455 [00:00<?, ?it/s]"
      ]
     },
     "metadata": {},
     "output_type": "display_data"
    },
    {
     "name": "stdout",
     "output_type": "stream",
     "text": [
      "['0.png' '1.png' '2.png' ... '27452.png' '27453.png' '27454.png']\n"
     ]
    }
   ],
   "source": [
    "imageName=np.array([])\n",
    "\n",
    "f = open(\"/home/aurore/Documents/MLonMCUs/MAX78000/ASL/data/asl/train/labels.txt\", \"w+\")\n",
    "f.write(f\"file_name,seq\\n\")\n",
    "\n",
    "for row_id, row in tqdm(train_df.iterrows(), total=len(train_df)):\n",
    "    label = row['label']\n",
    "    #image_path = os.path.join(data_path, \"train\", str(label), \"{}.png\".format(row_id))\n",
    "    pixels = row.iloc[1:].values.astype(\"uint8\")\n",
    "    pixels = pixels.reshape(28, 28)\n",
    "    image = Image.fromarray(pixels)\n",
    "    #image.save(image_path)\n",
    "    image_path=os.path.join(data_path, \"train/all\", \"{}.png\".format(row_id))\n",
    "    name=\"{}.png\".format(row_id)\n",
    "    namelabel=str(label)\n",
    "    imageName=np.append(imageName,\"{}.png\".format(row_id))\n",
    "    image.save(image_path)\n",
    "    f.write(f\"{name},{namelabel}\\n\")\n",
    "    #f.write(f\"\"{}.png\".format(row_id),{str(label)}\\n\")\n",
    "f.close()\n",
    "print(imageName)\n"
   ]
  },
  {
   "cell_type": "code",
   "execution_count": 129,
   "id": "0f970835",
   "metadata": {},
   "outputs": [
    {
     "data": {
      "application/vnd.jupyter.widget-view+json": {
       "model_id": "8e80c363b46a4459aa0cee49005243e8",
       "version_major": 2,
       "version_minor": 0
      },
      "text/plain": [
       "  0%|          | 0/7172 [00:00<?, ?it/s]"
      ]
     },
     "metadata": {},
     "output_type": "display_data"
    },
    {
     "name": "stdout",
     "output_type": "stream",
     "text": [
      "['0.png' '1.png' '2.png' ... '7169.png' '7170.png' '7171.png']\n"
     ]
    }
   ],
   "source": [
    "#do the same for test data\n",
    "imageName=np.array([])\n",
    "\n",
    "f = open(\"/home/aurore/Documents/MLonMCUs/MAX78000/ASL/data/asl/test/labels.txt\", \"w+\")\n",
    "f.write(f\"file_name,seq\\n\")\n",
    "\n",
    "for row_id, row in tqdm(test_df.iterrows(), total=len(test_df)):\n",
    "    label = row['label']\n",
    "    #image_path = os.path.join(data_path, \"train\", str(label), \"{}.png\".format(row_id))\n",
    "    pixels = row.iloc[1:].values.astype(\"uint8\")\n",
    "    pixels = pixels.reshape(28, 28)\n",
    "    image = Image.fromarray(pixels)\n",
    "    #image.save(image_path)\n",
    "    image_path=os.path.join(data_path, \"test/all\", \"{}.png\".format(row_id))\n",
    "    name=\"{}.png\".format(row_id)\n",
    "    namelabel=str(label)\n",
    "    imageName=np.append(imageName,\"{}.png\".format(row_id))\n",
    "    image.save(image_path)\n",
    "    f.write(f\"{name},{namelabel}\\n\")\n",
    "    #f.write(f\"\"{}.png\".format(row_id),{str(label)}\\n\")\n",
    "f.close()\n",
    "print(imageName)\n"
   ]
  },
  {
   "cell_type": "code",
   "execution_count": null,
   "id": "2e09bf53",
   "metadata": {},
   "outputs": [],
   "source": []
  },
  {
   "cell_type": "code",
   "execution_count": null,
   "id": "127b6db7",
   "metadata": {},
   "outputs": [],
   "source": []
  },
  {
   "cell_type": "code",
   "execution_count": null,
   "id": "4ac746fb",
   "metadata": {},
   "outputs": [],
   "source": []
  }
 ],
 "metadata": {
  "celltoolbar": "Raw Cell Format",
  "kernelspec": {
   "display_name": "Python 3 (ipykernel)",
   "language": "python",
   "name": "python3"
  },
  "language_info": {
   "codemirror_mode": {
    "name": "ipython",
    "version": 3
   },
   "file_extension": ".py",
   "mimetype": "text/x-python",
   "name": "python",
   "nbconvert_exporter": "python",
   "pygments_lexer": "ipython3",
   "version": "3.9.13"
  }
 },
 "nbformat": 4,
 "nbformat_minor": 5
}
