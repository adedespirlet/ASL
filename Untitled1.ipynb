{
 "cells": [
  {
   "cell_type": "code",
   "execution_count": 52,
   "id": "655807a0",
   "metadata": {},
   "outputs": [],
   "source": [
    "import cv2\n",
    "import binascii\n",
    "import numpy as np"
   ]
  },
  {
   "cell_type": "code",
   "execution_count": 92,
   "id": "df54f097",
   "metadata": {},
   "outputs": [
    {
     "name": "stdout",
     "output_type": "stream",
     "text": [
      "[[ 60 191 201 120  87  67  85  90 231 232 231 117 232 232 232 233 238 231\n",
      "  231 229 138 223 217 213 211 137 193 135]\n",
      " [ 47  70 103 120  76  81 224 233 227 231 152  71 207 203 210 232 230 234\n",
      "  232 234 129 221 219 216 210 206 139 144]\n",
      " [ 48  48  76  72  65 225 231 230 229 232  97 177 196 174 200 199 233 233\n",
      "  229 227 123 223 217 219 182 213 131 152]\n",
      " [ 48  43  57  56 219 224 229 233 232 128  95 206 175 199 198 137 216 232\n",
      "  231 230 118 230 221 219 151 218 140 179]\n",
      " [ 44  45  39  50 210 115 228 231 100  99  87 182 195 186 192 124 197 231\n",
      "  227 233 126 221 228 222 155 222 177 183]\n",
      " [ 47  44  49  46  62  87 174  97  71 104  76 191 170 179 203  97 160 200\n",
      "  228 231 126 228 229 228 167 220 195 217]\n",
      " [ 37  45  45  48  78 107 107 128 134 121 129 159 132 163 157  95 190 215\n",
      "  226 234 230 228 230 229 173 188 206 247]\n",
      " [ 76  51  51  51  83  96  89 100 113 102 117 116 119 138 141 159 195 206\n",
      "  228 231 226 226 224 223 181 249 249 251]\n",
      " [106 107  60  92  73  82  93 106 104 113 116 111 123 122 125 140 153 202\n",
      "  230 228 222 173 144 167 249 251 250 251]\n",
      " [ 90 113 109  79  75  85  97 112 112 115 127 103 125 135 120 128 151 198\n",
      "  116 121 130 142 150 251 250 251 250 251]\n",
      " [ 40  46  96  66  87  87 103 108 105 118 131 107 132 142 130 140 173 147\n",
      "  133 127 140 143 249 248 250 249 249 250]\n",
      " [ 34  52  73  48  95  74 104 111 102 123 129 110 135 145 136 146 163 142\n",
      "  172 106 115 116 244 241 249 246 248 247]\n",
      " [ 47  74  99  48  98  91 103 112  92 119 134 107 133 144 136 146 121 126\n",
      "  171 174 162 204 237 242 240 238 245 242]\n",
      " [ 77  50  52  52  94  99  64 121  93 122 133 110 139 134 137 141 114 138\n",
      "  252 167 117 196 121 218 217 218 229 225]\n",
      " [ 58  46  55  52  88 105  87  51  54 121 135 104 116 116 117  96 126 146\n",
      "  243 152 134 188 125 178  98  98 108 100]\n",
      " [ 61  46  50  63  78 106 106 101  97  87  69  78 107 112 101 119 131 142\n",
      "  193  77  85 162 143 108  90  88  93  78]\n",
      " [ 58  44  40  67  76 102 106 114 113 111  90  91  94  95 119 129 136 144\n",
      "  238  68  72  83 127  79  76  84  84  79]\n",
      " [ 37  35  47  64  34 101 106 114 122 124 122 108 104 117 121 141 134 148\n",
      "  230  77  73  74  87  68  74  84  84  84]\n",
      " [ 22  28  33  33  31  46 108 113 123 127 120 126 123 132 137 139 144 140\n",
      "  226  65  73  67  68  69  69  81  79  83]\n",
      " [ 22  23  31  22  32  33  97 119 122 130 130 132 127 130 134 141 143 144\n",
      "  185  63  57  72  67  63  70  72  67  78]\n",
      " [ 20  28  34  25  32  43  48 107 117 131 131 133 139 138 135 138 142 152\n",
      "  193  67  55  46  50  60  56  67  70  75]\n",
      " [ 20  15  34  27  32  41  38  70 119 127 130 140 144 139 146 143 145 151\n",
      "  157  85  36  39  52  58  55  62  66  60]\n",
      " [ 20  24  39  16  22  31  22  22 107 121 129 132 139 148 144 143 147 151\n",
      "  149  49  56  44  44  63  44  40  53  57]\n",
      " [ 17  27  37  31  32  22  32  16  22 114 124 129 143 143 143 145 151 147\n",
      "  144  45  83  85  79  73  77  70  72  48]\n",
      " [ 27  35  39  23  22  25  14  20  21  30 112 123 134 129 142 142 148 149\n",
      "  149  50  72  61  75  60  71  70  75  46]\n",
      " [ 42  52  19  21  19  22  21  14  20  20  25 110 122 132 137 148 148 150\n",
      "  141  36  72  88  61  70  76  74  63  40]\n",
      " [ 20  35  15  21  15  18  17  19  23  19  26  25 109 122 131 141 138 141\n",
      "  129  38  65  55  54  74  75  72  49  36]\n",
      " [ 22  25  24  17  20  25  19  30  16  25  29  24  32 105 118 127 133 118\n",
      "   44  38  57  65  62  52  70  67  40  39]]\n"
     ]
    }
   ],
   "source": [
    "img = cv2.imread('imageA.jpg', 2)\n",
    "#print(hex(img))\n",
    "#img=img[1,:]\n",
    "print(img)\n",
    "#print(hex(img))\n",
    "imgarray=np.array(img)"
   ]
  },
  {
   "cell_type": "code",
   "execution_count": 89,
   "id": "2093f38a",
   "metadata": {},
   "outputs": [
    {
     "name": "stdout",
     "output_type": "stream",
     "text": [
      "[['0x3c' '0xbf' '0xc9' '0x78' '0x57' '0x43' '0x55' '0x5a' '0xe7' '0xe8'\n",
      "  '0xe7' '0x75' '0xe8' '0xe8' '0xe8' '0xe9' '0xee' '0xe7' '0xe7' '0xe5'\n",
      "  '0x8a' '0xdf' '0xd9' '0xd5' '0xd3' '0x89' '0xc1' '0x87']\n",
      " ['0x2f' '0x46' '0x67' '0x78' '0x4c' '0x51' '0xe0' '0xe9' '0xe3' '0xe7'\n",
      "  '0x98' '0x47' '0xcf' '0xcb' '0xd2' '0xe8' '0xe6' '0xea' '0xe8' '0xea'\n",
      "  '0x81' '0xdd' '0xdb' '0xd8' '0xd2' '0xce' '0x8b' '0x90']\n",
      " ['0x30' '0x30' '0x4c' '0x48' '0x41' '0xe1' '0xe7' '0xe6' '0xe5' '0xe8'\n",
      "  '0x61' '0xb1' '0xc4' '0xae' '0xc8' '0xc7' '0xe9' '0xe9' '0xe5' '0xe3'\n",
      "  '0x7b' '0xdf' '0xd9' '0xdb' '0xb6' '0xd5' '0x83' '0x98']\n",
      " ['0x30' '0x2b' '0x39' '0x38' '0xdb' '0xe0' '0xe5' '0xe9' '0xe8' '0x80'\n",
      "  '0x5f' '0xce' '0xaf' '0xc7' '0xc6' '0x89' '0xd8' '0xe8' '0xe7' '0xe6'\n",
      "  '0x76' '0xe6' '0xdd' '0xdb' '0x97' '0xda' '0x8c' '0xb3']\n",
      " ['0x2c' '0x2d' '0x27' '0x32' '0xd2' '0x73' '0xe4' '0xe7' '0x64' '0x63'\n",
      "  '0x57' '0xb6' '0xc3' '0xba' '0xc0' '0x7c' '0xc5' '0xe7' '0xe3' '0xe9'\n",
      "  '0x7e' '0xdd' '0xe4' '0xde' '0x9b' '0xde' '0xb1' '0xb7']\n",
      " ['0x2f' '0x2c' '0x31' '0x2e' '0x3e' '0x57' '0xae' '0x61' '0x47' '0x68'\n",
      "  '0x4c' '0xbf' '0xaa' '0xb3' '0xcb' '0x61' '0xa0' '0xc8' '0xe4' '0xe7'\n",
      "  '0x7e' '0xe4' '0xe5' '0xe4' '0xa7' '0xdc' '0xc3' '0xd9']\n",
      " ['0x25' '0x2d' '0x2d' '0x30' '0x4e' '0x6b' '0x6b' '0x80' '0x86' '0x79'\n",
      "  '0x81' '0x9f' '0x84' '0xa3' '0x9d' '0x5f' '0xbe' '0xd7' '0xe2' '0xea'\n",
      "  '0xe6' '0xe4' '0xe6' '0xe5' '0xad' '0xbc' '0xce' '0xf7']\n",
      " ['0x4c' '0x33' '0x33' '0x33' '0x53' '0x60' '0x59' '0x64' '0x71' '0x66'\n",
      "  '0x75' '0x74' '0x77' '0x8a' '0x8d' '0x9f' '0xc3' '0xce' '0xe4' '0xe7'\n",
      "  '0xe2' '0xe2' '0xe0' '0xdf' '0xb5' '0xf9' '0xf9' '0xfb']\n",
      " ['0x6a' '0x6b' '0x3c' '0x5c' '0x49' '0x52' '0x5d' '0x6a' '0x68' '0x71'\n",
      "  '0x74' '0x6f' '0x7b' '0x7a' '0x7d' '0x8c' '0x99' '0xca' '0xe6' '0xe4'\n",
      "  '0xde' '0xad' '0x90' '0xa7' '0xf9' '0xfb' '0xfa' '0xfb']\n",
      " ['0x5a' '0x71' '0x6d' '0x4f' '0x4b' '0x55' '0x61' '0x70' '0x70' '0x73'\n",
      "  '0x7f' '0x67' '0x7d' '0x87' '0x78' '0x80' '0x97' '0xc6' '0x74' '0x79'\n",
      "  '0x82' '0x8e' '0x96' '0xfb' '0xfa' '0xfb' '0xfa' '0xfb']\n",
      " ['0x28' '0x2e' '0x60' '0x42' '0x57' '0x57' '0x67' '0x6c' '0x69' '0x76'\n",
      "  '0x83' '0x6b' '0x84' '0x8e' '0x82' '0x8c' '0xad' '0x93' '0x85' '0x7f'\n",
      "  '0x8c' '0x8f' '0xf9' '0xf8' '0xfa' '0xf9' '0xf9' '0xfa']\n",
      " ['0x22' '0x34' '0x49' '0x30' '0x5f' '0x4a' '0x68' '0x6f' '0x66' '0x7b'\n",
      "  '0x81' '0x6e' '0x87' '0x91' '0x88' '0x92' '0xa3' '0x8e' '0xac' '0x6a'\n",
      "  '0x73' '0x74' '0xf4' '0xf1' '0xf9' '0xf6' '0xf8' '0xf7']\n",
      " ['0x2f' '0x4a' '0x63' '0x30' '0x62' '0x5b' '0x67' '0x70' '0x5c' '0x77'\n",
      "  '0x86' '0x6b' '0x85' '0x90' '0x88' '0x92' '0x79' '0x7e' '0xab' '0xae'\n",
      "  '0xa2' '0xcc' '0xed' '0xf2' '0xf0' '0xee' '0xf5' '0xf2']\n",
      " ['0x4d' '0x32' '0x34' '0x34' '0x5e' '0x63' '0x40' '0x79' '0x5d' '0x7a'\n",
      "  '0x85' '0x6e' '0x8b' '0x86' '0x89' '0x8d' '0x72' '0x8a' '0xfc' '0xa7'\n",
      "  '0x75' '0xc4' '0x79' '0xda' '0xd9' '0xda' '0xe5' '0xe1']\n",
      " ['0x3a' '0x2e' '0x37' '0x34' '0x58' '0x69' '0x57' '0x33' '0x36' '0x79'\n",
      "  '0x87' '0x68' '0x74' '0x74' '0x75' '0x60' '0x7e' '0x92' '0xf3' '0x98'\n",
      "  '0x86' '0xbc' '0x7d' '0xb2' '0x62' '0x62' '0x6c' '0x64']\n",
      " ['0x3d' '0x2e' '0x32' '0x3f' '0x4e' '0x6a' '0x6a' '0x65' '0x61' '0x57'\n",
      "  '0x45' '0x4e' '0x6b' '0x70' '0x65' '0x77' '0x83' '0x8e' '0xc1' '0x4d'\n",
      "  '0x55' '0xa2' '0x8f' '0x6c' '0x5a' '0x58' '0x5d' '0x4e']\n",
      " ['0x3a' '0x2c' '0x28' '0x43' '0x4c' '0x66' '0x6a' '0x72' '0x71' '0x6f'\n",
      "  '0x5a' '0x5b' '0x5e' '0x5f' '0x77' '0x81' '0x88' '0x90' '0xee' '0x44'\n",
      "  '0x48' '0x53' '0x7f' '0x4f' '0x4c' '0x54' '0x54' '0x4f']\n",
      " ['0x25' '0x23' '0x2f' '0x40' '0x22' '0x65' '0x6a' '0x72' '0x7a' '0x7c'\n",
      "  '0x7a' '0x6c' '0x68' '0x75' '0x79' '0x8d' '0x86' '0x94' '0xe6' '0x4d'\n",
      "  '0x49' '0x4a' '0x57' '0x44' '0x4a' '0x54' '0x54' '0x54']\n",
      " ['0x16' '0x1c' '0x21' '0x21' '0x1f' '0x2e' '0x6c' '0x71' '0x7b' '0x7f'\n",
      "  '0x78' '0x7e' '0x7b' '0x84' '0x89' '0x8b' '0x90' '0x8c' '0xe2' '0x41'\n",
      "  '0x49' '0x43' '0x44' '0x45' '0x45' '0x51' '0x4f' '0x53']\n",
      " ['0x16' '0x17' '0x1f' '0x16' '0x20' '0x21' '0x61' '0x77' '0x7a' '0x82'\n",
      "  '0x82' '0x84' '0x7f' '0x82' '0x86' '0x8d' '0x8f' '0x90' '0xb9' '0x3f'\n",
      "  '0x39' '0x48' '0x43' '0x3f' '0x46' '0x48' '0x43' '0x4e']\n",
      " ['0x14' '0x1c' '0x22' '0x19' '0x20' '0x2b' '0x30' '0x6b' '0x75' '0x83'\n",
      "  '0x83' '0x85' '0x8b' '0x8a' '0x87' '0x8a' '0x8e' '0x98' '0xc1' '0x43'\n",
      "  '0x37' '0x2e' '0x32' '0x3c' '0x38' '0x43' '0x46' '0x4b']\n",
      " ['0x14' '0xf' '0x22' '0x1b' '0x20' '0x29' '0x26' '0x46' '0x77' '0x7f'\n",
      "  '0x82' '0x8c' '0x90' '0x8b' '0x92' '0x8f' '0x91' '0x97' '0x9d' '0x55'\n",
      "  '0x24' '0x27' '0x34' '0x3a' '0x37' '0x3e' '0x42' '0x3c']\n",
      " ['0x14' '0x18' '0x27' '0x10' '0x16' '0x1f' '0x16' '0x16' '0x6b' '0x79'\n",
      "  '0x81' '0x84' '0x8b' '0x94' '0x90' '0x8f' '0x93' '0x97' '0x95' '0x31'\n",
      "  '0x38' '0x2c' '0x2c' '0x3f' '0x2c' '0x28' '0x35' '0x39']\n",
      " ['0x11' '0x1b' '0x25' '0x1f' '0x20' '0x16' '0x20' '0x10' '0x16' '0x72'\n",
      "  '0x7c' '0x81' '0x8f' '0x8f' '0x8f' '0x91' '0x97' '0x93' '0x90' '0x2d'\n",
      "  '0x53' '0x55' '0x4f' '0x49' '0x4d' '0x46' '0x48' '0x30']\n",
      " ['0x1b' '0x23' '0x27' '0x17' '0x16' '0x19' '0xe' '0x14' '0x15' '0x1e'\n",
      "  '0x70' '0x7b' '0x86' '0x81' '0x8e' '0x8e' '0x94' '0x95' '0x95' '0x32'\n",
      "  '0x48' '0x3d' '0x4b' '0x3c' '0x47' '0x46' '0x4b' '0x2e']\n",
      " ['0x2a' '0x34' '0x13' '0x15' '0x13' '0x16' '0x15' '0xe' '0x14' '0x14'\n",
      "  '0x19' '0x6e' '0x7a' '0x84' '0x89' '0x94' '0x94' '0x96' '0x8d' '0x24'\n",
      "  '0x48' '0x58' '0x3d' '0x46' '0x4c' '0x4a' '0x3f' '0x28']\n",
      " ['0x14' '0x23' '0xf' '0x15' '0xf' '0x12' '0x11' '0x13' '0x17' '0x13'\n",
      "  '0x1a' '0x19' '0x6d' '0x7a' '0x83' '0x8d' '0x8a' '0x8d' '0x81' '0x26'\n",
      "  '0x41' '0x37' '0x36' '0x4a' '0x4b' '0x48' '0x31' '0x24']\n",
      " ['0x16' '0x19' '0x18' '0x11' '0x14' '0x19' '0x13' '0x1e' '0x10' '0x19'\n",
      "  '0x1d' '0x18' '0x20' '0x69' '0x76' '0x7f' '0x85' '0x76' '0x2c' '0x26'\n",
      "  '0x39' '0x41' '0x3e' '0x34' '0x46' '0x43' '0x28' '0x27']]\n"
     ]
    },
    {
     "ename": "ValueError",
     "evalue": "invalid literal for int() with base 10: '0x3c'",
     "output_type": "error",
     "traceback": [
      "\u001b[0;31m---------------------------------------------------------------------------\u001b[0m",
      "\u001b[0;31mValueError\u001b[0m                                Traceback (most recent call last)",
      "Cell \u001b[0;32mIn[89], line 16\u001b[0m\n\u001b[1;32m     13\u001b[0m \u001b[38;5;28;01mfor\u001b[39;00m x \u001b[38;5;129;01min\u001b[39;00m \u001b[38;5;28mrange\u001b[39m(\u001b[38;5;241m27\u001b[39m):\n\u001b[1;32m     14\u001b[0m     \u001b[38;5;28;01mfor\u001b[39;00m y \u001b[38;5;129;01min\u001b[39;00m \u001b[38;5;28mrange\u001b[39m(\u001b[38;5;241m27\u001b[39m):\n\u001b[0;32m---> 16\u001b[0m         array[x][y]\u001b[38;5;241m=\u001b[39m \u001b[38;5;28;43mint\u001b[39;49m\u001b[43m(\u001b[49m\u001b[43marray\u001b[49m\u001b[43m[\u001b[49m\u001b[43mx\u001b[49m\u001b[43m]\u001b[49m\u001b[43m[\u001b[49m\u001b[43my\u001b[49m\u001b[43m]\u001b[49m\u001b[43m)\u001b[49m\n",
      "\u001b[0;31mValueError\u001b[0m: invalid literal for int() with base 10: '0x3c'"
     ]
    }
   ],
   "source": [
    "hex_array=[]\n",
    "for x in img:\n",
    "    hex_array.append([hex(y) for y in x])\n",
    "    #print(type(hex_array))\n",
    "        \n",
    "array=np.array(hex_array)\n",
    "\n",
    "#print(hex_array)\n",
    "\n",
    "#array=np.array(hex_array)\n",
    "print(array)\n",
    "\n",
    "for x in range(27):\n",
    "    for y in range(27):\n",
    "        \n",
    "        array[x][y]= int(array[x][y])\n",
    "        "
   ]
  },
  {
   "cell_type": "code",
   "execution_count": 10,
   "id": "6af3f7e1",
   "metadata": {},
   "outputs": [
    {
     "name": "stdout",
     "output_type": "stream",
     "text": [
      "b'ffd8ffe000104a46494600010100000100010000ffdb0043000201010101010201010102020202020403020202020504040304060506060605060606070908060709070606080b08090a0a0a0a0a06080b0c0b0a0c090a0a0affc0000b08001c001c01011100ffc4001f0000010501010101010100000000000000000102030405060708090a0bffc400b5100002010303020403050504040000017d01020300041105122131410613516107227114328191a1082342b1c11552d1f02433627282090a161718191a25262728292a3435363738393a434445464748494a535455565758595a636465666768696a737475767778797a838485868788898a92939495969798999aa2a3a4a5a6a7a8a9aab2b3b4b5b6b7b8b9bac2c3c4c5c6c7c8c9cad2d3d4d5d6d7d8d9dae1e2e3e4e5e6e7e8e9eaf1f2f3f4f5f6f7f8f9faffda0008010100003f00f23ff8259fed2bf0797e22c27f6e1f06eb5e3ab5f08694b61e0fb1d58c37365a6c062b80cb24174479b2065b78208988863134d236d64423eecf853fb787893c4fa878fbe3b6b064d23c51a9165d13c2d6faa35f462c6c6d01b3b50a84ab31b9b8badc5429964918fca8aa2bec896db5bf881e37f0afc421a735b69e3c27aac17c269a3cc37334fa6bc6840625b2209f919036f241201f176fd837c71f1cdd7e25cda700ba95b5b4ab1c98b65476b789e631a3af2af3b4d26e1c31918f3924fe287c15f195ff008a3566d5fc4b78fa8dc6910c22fae60d302bccdbe44924091f326d51073b77954c6d2719fa6be18f8c3e1fcb6915ddeeaf1093fb36d1e58602c658242eec559146e47c606d20372062beb7f83ff137c33a5fc4bf04f89fe3c7c4f92f7c312e86bad5c7c3f7d45ae60d3e28ef5f4fb7792269e348d11c24effbb70c90c858b190ad7d4e3fe0b59ff04ef8d14dd7c745899864249a0df820648ff9e1ed5fcbff00ece5fb42ea9f0abc71a77893c4da94efa4bab1d4a11164ca8ed867c8072cbb15c77c291c0635fa7df0ebc29e07f174767e3fd016c6e84d04734175010c92a3282aeacbc3023a1e720fa578effc149be20f886d3e2bf82740f0dda5cccda57c3b5d3ee9ed22606de39752d4a5f9d8672ac2775edf74e71d5bc0a0f8ad63636f1c3abd818e5d83097309465038e8d8279079c62be43be9e7d5f53097931c18e25da8a1401c0e00181d33c7724d7d7fff0004aaf8dbf10b4df195c7c283abfda3444d3defadad6e817fb34a268d184673f2a379a495e4646460b36ee87f6bff00899e25f157ed27e23b5d4c5b84d174ab1b3b558e2fbf10579fe6c93c969dc12bb72b81eb9f07f89fa96a179e33ba4378f1ac0a91c6911c003686fe6c4d7fffd9'\n",
      "b'\\xff\\xd8\\xff\\xe0\\x00\\x10JFIF\\x00\\x01\\x01\\x00\\x00\\x01\\x00\\x01\\x00\\x00\\xff\\xdb\\x00C\\x00\\x02\\x01\\x01\\x01\\x01\\x01\\x02\\x01\\x01\\x01\\x02\\x02\\x02\\x02\\x02\\x04\\x03\\x02\\x02\\x02\\x02\\x05\\x04\\x04\\x03\\x04\\x06\\x05\\x06\\x06\\x06\\x05\\x06\\x06\\x06\\x07\\t\\x08\\x06\\x07\\t\\x07\\x06\\x06\\x08\\x0b\\x08\\t\\n\\n\\n\\n\\n\\x06\\x08\\x0b\\x0c\\x0b\\n\\x0c\\t\\n\\n\\n\\xff\\xc0\\x00\\x0b\\x08\\x00\\x1c\\x00\\x1c\\x01\\x01\\x11\\x00\\xff\\xc4\\x00\\x1f\\x00\\x00\\x01\\x05\\x01\\x01\\x01\\x01\\x01\\x01\\x00\\x00\\x00\\x00\\x00\\x00\\x00\\x00\\x01\\x02\\x03\\x04\\x05\\x06\\x07\\x08\\t\\n\\x0b\\xff\\xc4\\x00\\xb5\\x10\\x00\\x02\\x01\\x03\\x03\\x02\\x04\\x03\\x05\\x05\\x04\\x04\\x00\\x00\\x01}\\x01\\x02\\x03\\x00\\x04\\x11\\x05\\x12!1A\\x06\\x13Qa\\x07\"q\\x142\\x81\\x91\\xa1\\x08#B\\xb1\\xc1\\x15R\\xd1\\xf0$3br\\x82\\t\\n\\x16\\x17\\x18\\x19\\x1a%&\\'()*456789:CDEFGHIJSTUVWXYZcdefghijstuvwxyz\\x83\\x84\\x85\\x86\\x87\\x88\\x89\\x8a\\x92\\x93\\x94\\x95\\x96\\x97\\x98\\x99\\x9a\\xa2\\xa3\\xa4\\xa5\\xa6\\xa7\\xa8\\xa9\\xaa\\xb2\\xb3\\xb4\\xb5\\xb6\\xb7\\xb8\\xb9\\xba\\xc2\\xc3\\xc4\\xc5\\xc6\\xc7\\xc8\\xc9\\xca\\xd2\\xd3\\xd4\\xd5\\xd6\\xd7\\xd8\\xd9\\xda\\xe1\\xe2\\xe3\\xe4\\xe5\\xe6\\xe7\\xe8\\xe9\\xea\\xf1\\xf2\\xf3\\xf4\\xf5\\xf6\\xf7\\xf8\\xf9\\xfa\\xff\\xda\\x00\\x08\\x01\\x01\\x00\\x00?\\x00\\xf2?\\xf8%\\x9f\\xed+\\xf0y~\"\\xc2\\x7fn\\x1f\\x06\\xeb^:\\xb5\\xf0\\x86\\x94\\xb6\\x1e\\x0f\\xb1\\xd5\\x8c76Zl\\x06+\\x80\\xcb$\\x17Dy\\xb2\\x06[x \\x89\\x88\\x8614\\xd26\\xd6D#\\xee\\xcf\\x85?\\xb7\\x87\\x89<O\\xa8x\\xfb\\xe3\\xb6\\xb0d\\xd2<Q\\xa9\\x16]\\x13\\xc2\\xd6\\xfa\\xa3_F,lm\\x01\\xb3\\xb5\\n\\x84\\xab1\\xb9\\xb8\\xba\\xdcT)\\x96I\\x18\\xfc\\xa8\\xaa+\\xec\\x89m\\xb5\\xbf\\x88\\x1e7\\xf0\\xaf\\xc4!\\xa75\\xb6\\x9e<\\'\\xaa\\xc1|&\\x9a<\\xc3s4\\xfak\\xc6\\x84\\x06%\\xb2 \\x9f\\x91\\x906\\xf2A \\x1f\\x17o\\xd87\\xc7\\x1f\\x1c\\xdd~%\\xcd\\xa7\\x00\\xba\\x95\\xb5\\xb4\\xab\\x1c\\x98\\xb6Tv\\xb7\\x89\\xe61\\xa3\\xaf*\\xf3\\xb4\\xd2n\\x1c1\\x91\\x8f9$\\xfe(|\\x15\\xf1\\x95\\xff\\x00\\x8a5f\\xd5\\xfcKx\\xfa\\x8d\\xc6\\x91\\x0c\"\\xfa\\xe6\\r0+\\xcc\\xdb\\xe4I$\\t\\x1f2mQ\\x07;w\\x95Lm\\'\\x19\\xfak\\xe1\\x8f\\x8c>\\x1f\\xcbi\\x15\\xdd\\xee\\xaf\\x10\\x93\\xfb6\\xd1\\xe5\\x86\\x02\\xc6X$.\\xecU\\x91F\\xe4|`m 7 b\\xbe\\xb7\\xf8?\\xf17\\xc3:_\\xc4\\xbf\\x04\\xf8\\x9f\\xe3\\xc7\\xc4\\xf9/|1.\\x86\\xba\\xd5\\xc7\\xc3\\xf7\\xd4Z\\xe6\\r>(\\xef_O\\xb7y\"i\\xe3H\\xd1\\x1c$\\xef\\xfb\\xb7\\x0c\\x90\\xc8X\\xb1\\x90\\xad}N?\\xe0\\xb5\\x9f\\xf0N\\xf8\\xd1M\\xd7\\xc7E\\x89\\x98d$\\x9a\\r\\xf8 d\\x8f\\xf9\\xe1\\xed_\\xcb\\xff\\x00\\xec\\xe5\\xfbB\\xea\\x9f\\n\\xbcq\\xa7x\\x93\\xc4\\xda\\x94\\xef\\xa4\\xba\\xb1\\xd4\\xa1\\x11d\\xca\\x8e\\xd8g\\xc8\\x07,\\xbb\\x15\\xc7|)\\x1c\\x065\\xfa}\\xf0\\xeb\\xc2\\x9e\\x07\\xf1tv~?\\xd0\\x16\\xc6\\xe8M\\x04sAu\\x01\\x0c\\x92\\xa3(*\\xea\\xcb\\xc3\\x02:\\x1er\\x0f\\xa5x\\xef\\xfc\\x14\\x9b\\xe2\\x0f\\x88m>+\\xf8\\'@\\xf0\\xdd\\xa5\\xcc\\xcd\\xa5|;]>\\xe9\\xed\"`m\\xe3\\x97R\\xd4\\xa5\\xf9\\xd8g*\\xc2w^\\xdft\\xe7\\x1d[\\xc0\\xa0\\xf8\\xadcco\\x1c:\\xbd\\x81\\x8e]\\x83\\ts\\tFP8\\xe8\\xd8\\'\\x90y\\xc6+\\xe4;\\xe9\\xe7\\xd5\\xf50\\x97\\x93\\x1c\\x18\\xe2]\\xa8\\xa1@\\x1c\\x0e\\x00\\x18\\x1d3\\xc7rM}\\x7f\\xff\\x00\\x04\\xaa\\xf8\\xdb\\xf1\\x0bM\\xf1\\x95\\xc7\\xc2\\x83\\xab\\xfd\\xa3DM=\\xef\\xad\\xadn\\x81\\x7f\\xb3J&\\x8d\\x18Fs\\xf2\\xa3y\\xa4\\x95\\xe4dd`\\xb3n\\xe8\\x7fk\\xff\\x00\\x89\\x9e%\\xf1W\\xed\\'\\xe2;]L[\\x84\\xd1t\\xab\\x1b;U\\x8e/\\xbf\\x10W\\x9f\\xe6\\xc9<\\x96\\x9d\\xc1+\\xb7+\\x81\\xeb\\x9f\\x07\\xf8\\x9f\\xa9j\\x17\\x9e3\\xbaCx\\xf1\\xac\\n\\x91\\xc6\\x91\\x1c\\x006\\x86\\xfelM\\x7f\\xff\\xd9'\n"
     ]
    }
   ],
   "source": [
    "\n",
    "filename = 'imageA.jpg'\n",
    "with open(filename, 'rb') as f:\n",
    "    content = f.read()\n",
    "print(binascii.hexlify(content))\n",
    "print(content)"
   ]
  },
  {
   "cell_type": "code",
   "execution_count": 4,
   "id": "51cf0fd0",
   "metadata": {},
   "outputs": [],
   "source": [
    "cam = cv2.VideoCapture()\n",
    "cv2.namedWindow(\"photo\")"
   ]
  },
  {
   "cell_type": "code",
   "execution_count": 5,
   "id": "60f79717",
   "metadata": {},
   "outputs": [],
   "source": [
    "img_counter=0"
   ]
  },
  {
   "cell_type": "code",
   "execution_count": 6,
   "id": "5b9dfb3c",
   "metadata": {},
   "outputs": [
    {
     "name": "stdout",
     "output_type": "stream",
     "text": [
      "failed to grab frame\n"
     ]
    }
   ],
   "source": [
    "while True:\n",
    "    ret,frame=cam.read()\n",
    "    if not ret:\n",
    "        print(\"failed to grab frame\")\n",
    "    break\n",
    "\n",
    "    cv2.imshow(\"test\",frame)\n",
    "    k=cv2.waitKey(1)\n",
    "    if k%256==27:\n",
    "        print (\"escape hit, closing....\")\n",
    "        break\n",
    "    elif k%256==32:\n",
    "        img_name= \"opencv_frame_{}\".format(img_counter)\n",
    "        cv2.imwrite(img_name,frame)\n",
    "        print(\"screemshot taken\")\n",
    "        img_counter+=1"
   ]
  },
  {
   "cell_type": "code",
   "execution_count": 5,
   "id": "5d867832",
   "metadata": {},
   "outputs": [
    {
     "ename": "NameError",
     "evalue": "name 'originalImage' is not defined",
     "output_type": "error",
     "traceback": [
      "\u001b[0;31m---------------------------------------------------------------------------\u001b[0m",
      "\u001b[0;31mNameError\u001b[0m                                 Traceback (most recent call last)",
      "Cell \u001b[0;32mIn[5], line 1\u001b[0m\n\u001b[0;32m----> 1\u001b[0m grayImage \u001b[38;5;241m=\u001b[39m cv2\u001b[38;5;241m.\u001b[39mcvtColor(\u001b[43moriginalImage\u001b[49m, cv2\u001b[38;5;241m.\u001b[39mCOLOR_BGR2GRAY)\n\u001b[1;32m      2\u001b[0m cv2\u001b[38;5;241m.\u001b[39mimshow(\u001b[38;5;124m'\u001b[39m\u001b[38;5;124mGrayscale\u001b[39m\u001b[38;5;124m'\u001b[39m, gray_image)\n",
      "\u001b[0;31mNameError\u001b[0m: name 'originalImage' is not defined"
     ]
    }
   ],
   "source": [
    "grayImage = cv2.cvtColor(originalImage, cv2.COLOR_BGR2GRAY)\n",
    "cv2.imshow('Grayscale', gray_image)"
   ]
  },
  {
   "cell_type": "code",
   "execution_count": 6,
   "id": "5991abd0",
   "metadata": {},
   "outputs": [
    {
     "ename": "NameError",
     "evalue": "name 'cam' is not defined",
     "output_type": "error",
     "traceback": [
      "\u001b[0;31m---------------------------------------------------------------------------\u001b[0m",
      "\u001b[0;31mNameError\u001b[0m                                 Traceback (most recent call last)",
      "Cell \u001b[0;32mIn[6], line 1\u001b[0m\n\u001b[0;32m----> 1\u001b[0m result, image \u001b[38;5;241m=\u001b[39m \u001b[43mcam\u001b[49m\u001b[38;5;241m.\u001b[39mread()\n",
      "\u001b[0;31mNameError\u001b[0m: name 'cam' is not defined"
     ]
    }
   ],
   "source": [
    "result, image = cam.read()\n"
   ]
  },
  {
   "cell_type": "code",
   "execution_count": null,
   "id": "ec5dfe72",
   "metadata": {},
   "outputs": [],
   "source": [
    "if result:\n",
    "  \n",
    "    # showing result, it take frame name and image \n",
    "    # output\n",
    "    imshow(\"GeeksForGeeks\", image)\n",
    "  \n",
    "    # saving image in local storage\n",
    "    imwrite(\"GeeksForGeeks.png\", image)\n",
    "  \n",
    "    # If keyboard interrupt occurs, destroy image \n",
    "    # window\n",
    "    waitKey(0)\n",
    "    destroyWindow(\"GeeksForGeeks\")\n",
    "  \n",
    "# If captured image is corrupted, moving to else part\n",
    "else:\n",
    "    print(\"No image detected. Please! try again\")"
   ]
  }
 ],
 "metadata": {
  "kernelspec": {
   "display_name": "opencv",
   "language": "python",
   "name": "opencv"
  },
  "language_info": {
   "codemirror_mode": {
    "name": "ipython",
    "version": 3
   },
   "file_extension": ".py",
   "mimetype": "text/x-python",
   "name": "python",
   "nbconvert_exporter": "python",
   "pygments_lexer": "ipython3",
   "version": "3.9.13"
  }
 },
 "nbformat": 4,
 "nbformat_minor": 5
}
